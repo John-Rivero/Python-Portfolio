{
 "cells": [
  {
   "cell_type": "code",
   "execution_count": 1,
   "metadata": {},
   "outputs": [],
   "source": [
    "import pandas as pd\n",
    "import numpy as np"
   ]
  },
  {
   "cell_type": "code",
   "execution_count": 2,
   "metadata": {},
   "outputs": [
    {
     "name": "stdout",
     "output_type": "stream",
     "text": [
      "                 Players    Salary\n",
      "0          Stephen Curry  45780966\n",
      "1      Russell Westbrook  44211146\n",
      "2           LeBron James  41180544\n",
      "3           Kevin Durant  42018900\n",
      "4           Bradley Beal  33724200\n",
      "5         Damian Lillard  39344900\n",
      "6  Giannis Antetokounmpo  39344970\n",
      "7          Kawhi Leonard  39344900\n",
      "8            Paul George  39344900\n",
      "9          Klay Thompson  37980720\n",
      "                 Players    Salary\n",
      "0          Stephen Curry  48070014\n",
      "1      Russell Westbrook  47063478\n",
      "2           LeBron James  44474988\n",
      "3           Kevin Durant  44119845\n",
      "4           Bradley Beal  43279250\n",
      "5         Damian Lillard  42492492\n",
      "6  Giannis Antetokounmpo  42492492\n",
      "7          Kawhi Leonard  42492492\n",
      "8            Paul George  42492492\n",
      "9          Klay Thompson  40600080\n"
     ]
    }
   ],
   "source": [
    "season2022 = pd.read_csv(\"2022SeasonProcessed.csv\")\n",
    "print(season2022)\n",
    "\n",
    "season2023 = pd.read_csv(\"2023SeasonProcessed.csv\")\n",
    "print(season2023)"
   ]
  },
  {
   "cell_type": "code",
   "execution_count": 3,
   "metadata": {},
   "outputs": [
    {
     "name": "stdout",
     "output_type": "stream",
     "text": [
      "0     5.00\n",
      "1     6.45\n",
      "2     8.00\n",
      "3     5.00\n",
      "4    28.33\n",
      "5     8.00\n",
      "6     8.00\n",
      "7     8.00\n",
      "8     8.00\n",
      "9     6.90\n",
      "Name: Salary, dtype: float64\n"
     ]
    }
   ],
   "source": [
    "percent_increase = round(((season2023.Salary - season2022.Salary) / season2022.Salary) * 100 , 2)\n",
    "print(percent_increase)"
   ]
  },
  {
   "cell_type": "code",
   "execution_count": 4,
   "metadata": {},
   "outputs": [
    {
     "name": "stdout",
     "output_type": "stream",
     "text": [
      "[['Stephen Curry' 45780966 48070014 5.0]\n",
      " ['Russell Westbrook' 44211146 47063478 6.45]\n",
      " ['LeBron James' 41180544 44474988 8.0]\n",
      " ['Kevin Durant' 42018900 44119845 5.0]\n",
      " ['Bradley Beal' 33724200 43279250 28.33]\n",
      " ['Damian Lillard' 39344900 42492492 8.0]\n",
      " ['Giannis Antetokounmpo' 39344970 42492492 8.0]\n",
      " ['Kawhi Leonard' 39344900 42492492 8.0]\n",
      " ['Paul George' 39344900 42492492 8.0]\n",
      " ['Klay Thompson' 37980720 40600080 6.9]]\n"
     ]
    }
   ],
   "source": [
    "final_result = np.column_stack((season2022.Players, season2022.Salary, season2023.Salary, percent_increase))\n",
    "print(final_result)"
   ]
  },
  {
   "cell_type": "code",
   "execution_count": 5,
   "metadata": {},
   "outputs": [
    {
     "name": "stdout",
     "output_type": "stream",
     "text": [
      "                 Players Season_2022 Season_2023 Salary_percent_increase\n",
      "0          Stephen Curry    45780966    48070014                     5.0\n",
      "1      Russell Westbrook    44211146    47063478                    6.45\n",
      "2           LeBron James    41180544    44474988                     8.0\n",
      "3           Kevin Durant    42018900    44119845                     5.0\n",
      "4           Bradley Beal    33724200    43279250                   28.33\n",
      "5         Damian Lillard    39344900    42492492                     8.0\n",
      "6  Giannis Antetokounmpo    39344970    42492492                     8.0\n",
      "7          Kawhi Leonard    39344900    42492492                     8.0\n",
      "8            Paul George    39344900    42492492                     8.0\n",
      "9          Klay Thompson    37980720    40600080                     6.9\n"
     ]
    }
   ],
   "source": [
    "nba_salary_increase = pd.DataFrame(final_result)\n",
    "\n",
    "nba_salary_increase.columns = [\"Players\", 'Season_2022', 'Season_2023', 'Salary_percent_increase']\n",
    "print(nba_salary_increase)"
   ]
  },
  {
   "cell_type": "code",
   "execution_count": 6,
   "metadata": {},
   "outputs": [],
   "source": [
    "nba_salary_increase.to_csv(\"NBASalary.csv\", index = False)"
   ]
  }
 ],
 "metadata": {
  "kernelspec": {
   "display_name": "Python 3",
   "language": "python",
   "name": "python3"
  },
  "language_info": {
   "codemirror_mode": {
    "name": "ipython",
    "version": 3
   },
   "file_extension": ".py",
   "mimetype": "text/x-python",
   "name": "python",
   "nbconvert_exporter": "python",
   "pygments_lexer": "ipython3",
   "version": "3.11.2"
  },
  "orig_nbformat": 4,
  "vscode": {
   "interpreter": {
    "hash": "5ff187f48c898aaa9535692ba3afa361364e4b0957477ac51f7e5a035efb4944"
   }
  }
 },
 "nbformat": 4,
 "nbformat_minor": 2
}
