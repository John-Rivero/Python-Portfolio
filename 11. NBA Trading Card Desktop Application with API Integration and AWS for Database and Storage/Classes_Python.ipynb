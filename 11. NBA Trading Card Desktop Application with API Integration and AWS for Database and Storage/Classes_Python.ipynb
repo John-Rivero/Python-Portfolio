{
 "cells": [
  {
   "cell_type": "code",
   "execution_count": 16,
   "metadata": {},
   "outputs": [
    {
     "name": "stdout",
     "output_type": "stream",
     "text": [
      "Rivero\n",
      "John\n",
      "50000\n",
      "John Rivero\n",
      "John Rivero\n"
     ]
    }
   ],
   "source": [
    "##Classes and Instances Part 1\n",
    "\n",
    "class Employee:\n",
    "    \n",
    "    def __init__(self, first, last, pay):\n",
    "        self.first = first\n",
    "        self.last = last\n",
    "        self.pay = pay\n",
    "        \n",
    "        \n",
    "    def fullname(self):\n",
    "        return f'{self.first} {self.last}'\n",
    "        \n",
    "        \n",
    "\n",
    "emp_1 = Employee('John', 'Rivero', 50000)\n",
    "\n",
    "\n",
    "print(emp_1.last)\n",
    "print(emp_1.first)\n",
    "print(emp_1.pay)\n",
    "\n",
    "#Better Version\n",
    "print(emp_1.fullname())\n",
    "\n",
    "#Ok Version\n",
    "print(Employee.fullname(emp_1))"
   ]
  },
  {
   "cell_type": "code",
   "execution_count": 17,
   "metadata": {},
   "outputs": [
    {
     "name": "stdout",
     "output_type": "stream",
     "text": [
      "my car is a Black Mitsubishi Mirage \n"
     ]
    }
   ],
   "source": [
    "##Classes and Instances Part 2\n",
    "\n",
    "class Car:\n",
    "    def __init__(self, model, color, brand):\n",
    "        self.brand = brand\n",
    "        self.model = model\n",
    "        self.color = color\n",
    "        \n",
    "    def vehicle_info(self):\n",
    "        return f'my car is a {self.color} {self.brand} {self.model} '\n",
    "    \n",
    "    \n",
    "    \n",
    "    \n",
    "car_1 = Car(\"Mirage\", 'Black', 'Mitsubishi')\n",
    "\n",
    "print(car_1.vehicle_info())"
   ]
  },
  {
   "cell_type": "code",
   "execution_count": 21,
   "metadata": {},
   "outputs": [
    {
     "name": "stdout",
     "output_type": "stream",
     "text": [
      "John Rivero\n",
      "52000\n",
      "62400\n",
      "57200\n",
      "68640\n"
     ]
    }
   ],
   "source": [
    "##Class Variables Part 1\n",
    "\n",
    "\n",
    "class Employee:\n",
    "\n",
    "    raise_amount = 1.04\n",
    "    \n",
    "    def __init__(self, first, last, pay):\n",
    "        self.first = first\n",
    "        self.last = last\n",
    "        self.pay = pay\n",
    "        \n",
    "        \n",
    "    def fullname(self):\n",
    "        return f'{self.first} {self.last}'\n",
    "    \n",
    "    def apply_raise(self):\n",
    "        self.pay = int(self.pay * self.raise_amount)\n",
    "        return self.pay\n",
    "        \n",
    "        \n",
    "\n",
    "emp_1 = Employee('John', 'Rivero', 50000)\n",
    "emp_2 = Employee('Karlene', 'Do', 60000)\n",
    "\n",
    "\n",
    "print(emp_1.fullname())\n",
    "print(Employee.apply_raise(emp_1))\n",
    "print(Employee.apply_raise(emp_2))\n",
    "\n",
    "\n",
    "Employee.raise_amount = 1.10\n",
    "print(Employee.apply_raise(emp_1))\n",
    "print(Employee.apply_raise(emp_2))\n",
    "\n"
   ]
  }
 ],
 "metadata": {
  "kernelspec": {
   "display_name": "Python 3",
   "language": "python",
   "name": "python3"
  },
  "language_info": {
   "codemirror_mode": {
    "name": "ipython",
    "version": 3
   },
   "file_extension": ".py",
   "mimetype": "text/x-python",
   "name": "python",
   "nbconvert_exporter": "python",
   "pygments_lexer": "ipython3",
   "version": "3.11.2"
  }
 },
 "nbformat": 4,
 "nbformat_minor": 2
}
